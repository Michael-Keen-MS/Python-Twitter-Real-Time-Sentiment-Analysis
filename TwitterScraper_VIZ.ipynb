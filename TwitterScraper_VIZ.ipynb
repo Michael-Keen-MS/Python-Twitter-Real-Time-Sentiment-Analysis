{
 "cells": [
  {
   "cell_type": "code",
   "execution_count": 1,
   "metadata": {},
   "outputs": [
    {
     "data": {
      "text/html": [
       "<style>.container { width:80% !important; }</style>"
      ],
      "text/plain": [
       "<IPython.core.display.HTML object>"
      ]
     },
     "metadata": {},
     "output_type": "display_data"
    }
   ],
   "source": [
    "from IPython.core.display import display, HTML\n",
    "display(HTML(\"<style>.container { width:80% !important; }</style>\"))"
   ]
  },
  {
   "cell_type": "code",
   "execution_count": null,
   "metadata": {},
   "outputs": [],
   "source": [
    "# IMPORT OF ALL REQUIRED LIBRARIES\n",
    "%matplotlib inline\n",
    "\n",
    "import time\n",
    "import pylab as pl\n",
    "from IPython import display\n",
    "import pandas as pd\n",
    "from wordcloud import WordCloud, STOPWORDS, ImageColorGenerator\n",
    "import numpy as np\n",
    "import re\n",
    "import urllib\n",
    "import requests\n",
    "from PIL import Image\n",
    "from matplotlib import style\n",
    "import matplotlib.gridspec as gridspec\n",
    "\n",
    "#  SET CHART STYLES\n",
    "style.use('bmh')\n",
    "\n",
    "# CREATE A LIST OF WORDS TO NOT SHOW IN THE WORD CLOUD\n",
    "stopwords = set(STOPWORDS)\n",
    "stopwords.update([\"https\", \"co\", \"x92\", \"ugpHT6k30c\", \"MexWPLPGfn\", \"x91Game\", \"x92m\", \"bartlebee24_\", \"ve\"])\n",
    "\n",
    "# IMPORT AN IMAGE FOR THE WORD CLOUD TO TAKE THE SHAPE OF\n",
    "mask = np.array(Image.open(requests.get('https://upload.wikimedia.org/wikipedia/commons/thumb/d/d7/DemDonkey.svg/1920px-DemDonkey.svg.png', stream=True).raw))\n",
    "\n",
    "# DATAFILE PATHS FOR USE IN IMPORTS \n",
    "file_path = 'tweets_chart.csv'\n",
    "file_path2 = \"tweets.csv\"\n",
    "\n",
    "# CREATING THE FIGURE WITH MULTIPLE SUBPLOTS\n",
    "fig = pl.figure()\n",
    "fig.tight_layout()\n",
    "fig.set_size_inches(50, 25) \n",
    "\n",
    "gs = gridspec.GridSpec(3,3)\n",
    "\n",
    "ax1=fig.add_subplot(gs[:,0])\n",
    "ax2=fig.add_subplot(gs[0,1:])\n",
    "ax3=fig.add_subplot(gs[1,1:], sharex=ax2)\n",
    "ax4=fig.add_subplot(gs[2,1:], sharex=ax2)\n",
    "fig.show()\n",
    "\n",
    "# RUN THE RECURSIVE LOOP UNTIL THE USER INTERRUPTS\n",
    "while True:\n",
    "    try:\n",
    "# RECURSIVE IMPORT OF FRESH DATA BACKFILLING EMPTY DATAPOINTS DUE TO STREAM ERRORS        \n",
    "        df = pd.read_csv(file_path) # DATA READ FOR CHARTS     \n",
    "        dfx = df[[\"TWT_POST_DT\", \"POSSENTIMENT\", \"NEGSENTIMENT\"]].fillna(method='ffill')                          # DATA FOR AVG SENT CHART\n",
    "        dfy = df[[\"TWT_POST_DT\", \"POSCNT\", \"NEGCNT\"]].replace(to_replace=0, method='ffill')                       # DATA FOR COUNT POS AND NEG TWEETS CHART\n",
    "        dfv = df[[\"TWT_POST_DT\", \"FOLLOWER_CNT\", \"FRIENDS_CNT\"]].replace(to_replace=0, method='ffill')            # DATA FOR THE FOLLOWERS FRIENDS CHART\n",
    "        \n",
    "        df2 = pd.read_csv(file_path2, encoding = \"1252\")   \n",
    "        dfz = df2.replace('http://\\S+|https://\\S+', '', regex=True)                                               # DATA FOR WORD CLOUD CHART\n",
    "        dfz.TWEET.replace(\"'\", \"\")\n",
    "        dfz = dfz.TWEET.values        \n",
    "                \n",
    "# PLOTTING WORD CLOUD OF HIGHEST FREQUENCY WORDS  \n",
    "#        wordcloud = WordCloud(width=512, height=512, background_color = 'black', min_font_size=10, stopwords = stopwords, mask = mask, contour_width=3, contour_color='firebrick').generate(str(dfz).replace(\"'\", \"\"))        \n",
    "        wordcloud = WordCloud(width=512, height=512, background_color = 'black', min_font_size=10, stopwords = stopwords, contour_width=3, contour_color='firebrick').generate(str(dfz).replace(\"'\", \"\"))        \n",
    "\n",
    "        ax1.imshow(wordcloud, interpolation=\"bilinear\", aspect=\"auto\")\n",
    "        ax1.set_title(\"Word Cloud by Frequency\", fontsize=25)\n",
    "        ax1.axis(\"off\")     \n",
    "        ax1.margins(x=0, y=0)\n",
    "        \n",
    "# PLOTTING AVERAGE POSITIVE AND NEGATIVE SENTIMENT \n",
    "        ax2.clear() # to clear the whole axes            \n",
    "        ax2.set_title('Average Tweet Sentiment Over Time', fontsize=25)\n",
    "        ax2.set_ylabel('Average Senitment Score', fontsize=25)\n",
    "        ax2.set_xlabel('DateTime Segment', fontsize=25)  \n",
    "        dfx.plot(x=\"TWT_POST_DT\", kind=\"line\", linewidth=3,  markersize=14, markeredgecolor='k', markeredgewidth=2.0, color=['g', 'r'], marker='o', fontsize=20, ax=ax2) \n",
    "        ax2.legend().set_visible(False)\n",
    "        \n",
    "# PLOTTING COUNT OF POSITIVE AND NEGATIVE TWEETS         \n",
    "        ax3.clear() # to clear the whole axes  \n",
    "        ax3.set_title(\"Total Positive and Negative Tweets Over Time\", fontsize=25)\n",
    "        ax3.set_ylabel('Total Tweets', fontsize=25)\n",
    "        ax3.set_xlabel('DateTime Segment', fontsize=25)  \n",
    "        dfy.plot(x=\"TWT_POST_DT\", kind=\"bar\", stacked=True, color=['g', 'r'], edgecolor='k', linewidth=3.0, fontsize=20, ax=ax3, sharex = ax2) \n",
    "        ax3.legend().set_visible(False)   \n",
    "                \n",
    "# PLOTTING THE TOTAL NUMBER OF FOLLOWERS AND FRIENDS DIRECT VISIBILITY OF USER'S TWEET      \n",
    "        ax4.clear() # to clear the whole axes  \n",
    "        ax4.set_title(\"Total Followers and Friends with Access to Tweet (millions)\", fontsize=25)\n",
    "        ax4.set_ylabel('Total Followers/Friends Reached', fontsize=25)\n",
    "        ax4.set_xlabel('DateTime Segment', fontsize=25)  \n",
    "        dfv.plot(x=\"TWT_POST_DT\", kind=\"bar\", stacked=True, color=['b', 'k'], edgecolor='k', linewidth=3.0, fontsize=20, ax=ax4, sharex = ax2) \n",
    "        ax4.legend().set_visible(False)   \n",
    "             \n",
    "# RESET THE VISUALIZATIONS FOR THE NEXT ITERATION\n",
    "        display.display(pl.gcf())\n",
    "        display.clear_output(wait=True)       \n",
    "        time.sleep(3)\n",
    "        pl.cla\n",
    "    \n",
    "# IF THE USER INTERRUPTS THE PROGRAM, END WITHOUT ERRORS        \n",
    "    except KeyboardInterrupt:\n",
    "        display.display(pl.clf())\n",
    "        break"
   ]
  },
  {
   "cell_type": "markdown",
   "metadata": {},
   "source": []
  },
  {
   "cell_type": "code",
   "execution_count": null,
   "metadata": {},
   "outputs": [],
   "source": []
  },
  {
   "cell_type": "markdown",
   "metadata": {},
   "source": []
  },
  {
   "cell_type": "code",
   "execution_count": null,
   "metadata": {},
   "outputs": [],
   "source": []
  },
  {
   "cell_type": "code",
   "execution_count": null,
   "metadata": {},
   "outputs": [],
   "source": []
  },
  {
   "cell_type": "code",
   "execution_count": null,
   "metadata": {},
   "outputs": [],
   "source": []
  }
 ],
 "metadata": {
  "kernelspec": {
   "display_name": "Python 3",
   "language": "python",
   "name": "python3"
  },
  "language_info": {
   "codemirror_mode": {
    "name": "ipython",
    "version": 3
   },
   "file_extension": ".py",
   "mimetype": "text/x-python",
   "name": "python",
   "nbconvert_exporter": "python",
   "pygments_lexer": "ipython3",
   "version": "3.7.3"
  }
 },
 "nbformat": 4,
 "nbformat_minor": 2
}
